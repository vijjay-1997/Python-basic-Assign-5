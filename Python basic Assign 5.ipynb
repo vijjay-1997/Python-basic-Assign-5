{
 "cells": [
  {
   "cell_type": "markdown",
   "id": "2fa69ffe",
   "metadata": {},
   "source": [
    "# Assignment 5 Solutions\n",
    "### 1.What does an empty dictionary's code look like?\n",
    "#### Ans: \n",
    "     An empty dictionary is often represented by two empty curly brackets\n",
    "     d = {} or d = dict()"
   ]
  },
  {
   "cell_type": "markdown",
   "id": "51a1a93a",
   "metadata": {},
   "source": [
    "### 2.what is the value of dictionary value with key 'foo' and the value 42 ?\n",
    "#### Ans:\n",
    "     {'foo':42}"
   ]
  },
  {
   "cell_type": "markdown",
   "id": "692870d2",
   "metadata": {},
   "source": [
    "### 3.What is the most significant distinction between a dictionary and a list?\n",
    "#### Ans:\n",
    "     Dictionaries are represented by {} where as listed are represented by []\n",
    "     The Items stored in a dictionary are Unordered , while the items in a list are ordered"
   ]
  },
  {
   "cell_type": "markdown",
   "id": "7ca2c4e8",
   "metadata": {},
   "source": [
    "### 4.What happens if you try to access spam ['foo'] if spam is {'bar':100} ?\n",
    "#### Ans:\n",
    "     we will get a keyError KeyError: 'foo' "
   ]
  },
  {
   "cell_type": "markdown",
   "id": "da24356f",
   "metadata": {},
   "source": [
    "###  5.if a dictionary is stored in spam,what is the difference between the expressions 'cat' in spam and 'cat' in spam.keys() ?\n",
    "#### Ans:\n",
    "      There is no difference . The operator checks whether a value exits as a key in the dictionary or not"
   ]
  },
  {
   "cell_type": "markdown",
   "id": "f81b3a03",
   "metadata": {},
   "source": [
    "### 6.if a dictionary is stored in spam,what is the difference between the expressions 'cat' in spam and 'cat' in spam.values() ?\n",
    "#### Ans:\n",
    "     'cat' in spam checks whether there is a 'cat' key in the dictionary, while 'cat' in spam.values() checks whether there is a value 'cat' for one of the keys in spam."
   ]
  },
  {
   "cell_type": "markdown",
   "id": "8ec531b0",
   "metadata": {},
   "source": [
    "### 7.what is a shortcut for the following code ?\n",
    "if 'color' not in spam:\n",
    "\n",
    "    spam['color'] ='black'\n",
    "#### Ans:\n",
    "     spam.setdefault('color','black')"
   ]
  },
  {
   "cell_type": "markdown",
   "id": "988e604f",
   "metadata": {},
   "source": [
    "###  8.How do you 'pretty print' dictionary values using which modules and function ?\n",
    "#### Ans:\n",
    "     we can pretty print a dictionary using three functions\n",
    "\n",
    "       1.by using pprint() function of pprint module\n",
    "  \n",
    "          ~ Note: pprint() function doesnot prettify nested dictionaries\n",
    "\n",
    "       2.by using dumps() method of json module\n",
    "\n",
    "       3.by using dumps() method of yaml module"
   ]
  },
  {
   "cell_type": "code",
   "execution_count": 3,
   "id": "23120ae5",
   "metadata": {},
   "outputs": [
    {
     "name": "stdout",
     "output_type": "stream",
     "text": [
      "Printing using print() function\n",
      " [{'Name': 'Vijay', 'Age': '25', 'Residence': {'Country': 'USA', 'City': 'New York'}}, {'Name': 'Pankhu', 'Age': '40', 'Residence': {'Country': 'Spain', 'City': 'Madrid'}}, {'Name': 'Vimal', 'Age': '39', 'Residence': {'Country': 'UK', 'City': 'England'}}, {'Name': 'Niraj', 'Age': '55', 'Residence': {'Country': 'India', 'City': 'Delhi'}}]\n",
      "----------------------------------------------------------------------\n",
      "Printing using pprint() funciton\n",
      "[{'Age': '25',\n",
      "  'Name': 'Vijay',\n",
      "  'Residence': {'City': 'New York', 'Country': 'USA'}},\n",
      " {'Age': '40',\n",
      "  'Name': 'Pankhu',\n",
      "  'Residence': {'City': 'Madrid', 'Country': 'Spain'}},\n",
      " {'Age': '39',\n",
      "  'Name': 'Vimal',\n",
      "  'Residence': {'City': 'England', 'Country': 'UK'}},\n",
      " {'Age': '55',\n",
      "  'Name': 'Niraj',\n",
      "  'Residence': {'City': 'Delhi', 'Country': 'India'}}]\n",
      "----------------------------------------------------------------------\n",
      "Printing using dumps() method\n",
      " [\n",
      "    {\n",
      "        \"Name\": \"Vijay\",\n",
      "        \"Age\": \"25\",\n",
      "        \"Residence\": {\n",
      "            \"Country\": \"USA\",\n",
      "            \"City\": \"New York\"\n",
      "        }\n",
      "    },\n",
      "    {\n",
      "        \"Name\": \"Pankhu\",\n",
      "        \"Age\": \"40\",\n",
      "        \"Residence\": {\n",
      "            \"Country\": \"Spain\",\n",
      "            \"City\": \"Madrid\"\n",
      "        }\n",
      "    },\n",
      "    {\n",
      "        \"Name\": \"Vimal\",\n",
      "        \"Age\": \"39\",\n",
      "        \"Residence\": {\n",
      "            \"Country\": \"UK\",\n",
      "            \"City\": \"England\"\n",
      "        }\n",
      "    },\n",
      "    {\n",
      "        \"Name\": \"Niraj\",\n",
      "        \"Age\": \"55\",\n",
      "        \"Residence\": {\n",
      "            \"Country\": \"India\",\n",
      "            \"City\": \"Delhi\"\n",
      "        }\n",
      "    }\n",
      "]\n",
      "----------------------------------------------------------------------\n",
      "Printing using dump() method\n",
      " - Age: '25'\n",
      "  Name: Vijay\n",
      "  Residence:\n",
      "    City: New York\n",
      "    Country: USA\n",
      "- Age: '40'\n",
      "  Name: Pankhu\n",
      "  Residence:\n",
      "    City: Madrid\n",
      "    Country: Spain\n",
      "- Age: '39'\n",
      "  Name: Vimal\n",
      "  Residence:\n",
      "    City: England\n",
      "    Country: UK\n",
      "- Age: '55'\n",
      "  Name: Niraj\n",
      "  Residence:\n",
      "    City: Delhi\n",
      "    Country: India\n",
      "\n"
     ]
    }
   ],
   "source": [
    "ndict = [\n",
    "  {'Name': 'Vijay', 'Age': '25', 'Residence': {'Country':'USA', 'City': 'New York'}},\n",
    "  {'Name': 'Pankhu', 'Age': '40', 'Residence': {'Country':'Spain', 'City': 'Madrid'}},\n",
    "  {'Name': 'Vimal', 'Age': '39', 'Residence': {'Country':'UK', 'City': 'England'}},\n",
    "  {'Name': 'Niraj', 'Age': '55', 'Residence': {'Country':'India', 'City': 'Delhi'}}\n",
    "]\n",
    "\n",
    "print('Printing using print() function\\n',ndict)\n",
    "print('-'*70)\n",
    "import pprint\n",
    "print('Printing using pprint() funciton')\n",
    "pprint.pprint(ndict)\n",
    "print('-'*70)\n",
    "import json\n",
    "dump = json.dumps(ndict, indent=4)\n",
    "print('Printing using dumps() method\\n', dump)\n",
    "print('-'*70)\n",
    "import yaml\n",
    "dump = yaml.dump(ndict)\n",
    "print('Printing using dump() method\\n', dump)"
   ]
  }
 ],
 "metadata": {
  "kernelspec": {
   "display_name": "Python 3 (ipykernel)",
   "language": "python",
   "name": "python3"
  },
  "language_info": {
   "codemirror_mode": {
    "name": "ipython",
    "version": 3
   },
   "file_extension": ".py",
   "mimetype": "text/x-python",
   "name": "python",
   "nbconvert_exporter": "python",
   "pygments_lexer": "ipython3",
   "version": "3.9.7"
  }
 },
 "nbformat": 4,
 "nbformat_minor": 5
}
